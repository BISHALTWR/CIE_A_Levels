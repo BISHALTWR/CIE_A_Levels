{
 "cells": [
  {
   "cell_type": "code",
   "execution_count": 1,
   "metadata": {},
   "outputs": [
    {
     "name": "stdout",
     "output_type": "stream",
     "text": [
      "The Zen of Python, by Tim Peters\n",
      "\n",
      "Beautiful is better than ugly.\n",
      "Explicit is better than implicit.\n",
      "Simple is better than complex.\n",
      "Complex is better than complicated.\n",
      "Flat is better than nested.\n",
      "Sparse is better than dense.\n",
      "Readability counts.\n",
      "Special cases aren't special enough to break the rules.\n",
      "Although practicality beats purity.\n",
      "Errors should never pass silently.\n",
      "Unless explicitly silenced.\n",
      "In the face of ambiguity, refuse the temptation to guess.\n",
      "There should be one-- and preferably only one --obvious way to do it.\n",
      "Although that way may not be obvious at first unless you're Dutch.\n",
      "Now is better than never.\n",
      "Although never is often better than *right* now.\n",
      "If the implementation is hard to explain, it's a bad idea.\n",
      "If the implementation is easy to explain, it may be a good idea.\n",
      "Namespaces are one honking great idea -- let's do more of those!\n"
     ]
    }
   ],
   "source": [
    "import this"
   ]
  },
  {
   "cell_type": "code",
   "execution_count": 2,
   "metadata": {},
   "outputs": [
    {
     "name": "stdout",
     "output_type": "stream",
     "text": [
      "5\n"
     ]
    }
   ],
   "source": [
    "x = 5\n",
    "print(x)"
   ]
  },
  {
   "cell_type": "code",
   "execution_count": 3,
   "metadata": {},
   "outputs": [
    {
     "name": "stdout",
     "output_type": "stream",
     "text": [
      "<class 'int'>\n",
      "<class 'float'>\n",
      "<class 'str'>\n",
      "<class 'list'>\n",
      "<class 'tuple'>\n"
     ]
    }
   ],
   "source": [
    "x = 5\n",
    "print(type(x))\n",
    "\n",
    "print(type(1.5))\n",
    "\n",
    "print(type('x'))\n",
    "\n",
    "print(type([1,2,3,4]))\n",
    "\n",
    "print(type((1,2,3,4)))"
   ]
  },
  {
   "cell_type": "code",
   "execution_count": 4,
   "metadata": {},
   "outputs": [
    {
     "name": "stdout",
     "output_type": "stream",
     "text": [
      "x\n",
      "Bishal\n",
      "x is: Bishal\n",
      "x is: Bishal.\n"
     ]
    }
   ],
   "source": [
    "x = \"Bishal\"\n",
    "\n",
    "print('x') # Values enclosed in inverted commas are printed as is.\n",
    "print(x) # If not enclosed in inverted commas, value associated with the identifier is displays. \n",
    "\n",
    "print('x is:',x) # You can combine bothExponential\n",
    "\n",
    "# I highly recommend f string\n",
    "print(f\"x is: {x}.\") # Notice the f at start. Things inside `{}` are treated as identifier and rest as string "
   ]
  },
  {
   "cell_type": "code",
   "execution_count": 5,
   "metadata": {},
   "outputs": [
    {
     "name": "stdout",
     "output_type": "stream",
     "text": [
      "Line will be changed after this.\n",
      "This is a new line.\n",
      "This inserts horizontal tab\there\tand here\t.\n",
      "You can display \" like this.\n"
     ]
    }
   ],
   "source": [
    "print(\"Line will be changed after this.\\nThis is a new line.\")\n",
    "print(\"This inserts horizontal tab\\there\\tand here\\t.\")\n",
    "print(\"You can display \\\" like this.\")"
   ]
  },
  {
   "cell_type": "code",
   "execution_count": 6,
   "metadata": {},
   "outputs": [
    {
     "name": "stdout",
     "output_type": "stream",
     "text": [
      "\n",
      "This is shown\n",
      "as it is \n",
      "written here.\n",
      "\n"
     ]
    }
   ],
   "source": [
    "print('''\n",
    "This is shown\n",
    "as it is \n",
    "written here.\n",
    "''')"
   ]
  },
  {
   "cell_type": "code",
   "execution_count": 8,
   "metadata": {},
   "outputs": [
    {
     "name": "stdout",
     "output_type": "stream",
     "text": [
      "one\n"
     ]
    }
   ],
   "source": [
    "x = int(input(\"Enter a number: \"))\n",
    "\n",
    "match x:\n",
    "    case 0:\n",
    "        print(\"zero\")\n",
    "    case 1:\n",
    "        print(\"one\")\n",
    "    case 2:\n",
    "        print(\"two\")\n",
    "    case _:\n",
    "        print(\"I am not ashamed to accept my flaws. I DON'T KNOW THAT NUMBER.\")"
   ]
  },
  {
   "cell_type": "code",
   "execution_count": 1,
   "metadata": {},
   "outputs": [
    {
     "name": "stdout",
     "output_type": "stream",
     "text": [
      "<class 'range'>\n",
      "0\n",
      "1\n",
      "2\n",
      "3\n",
      "4\n"
     ]
    }
   ],
   "source": [
    "print(type(range(0,5)))\n",
    "for i in range(0,5):\n",
    "    print(i)"
   ]
  },
  {
   "cell_type": "code",
   "execution_count": 1,
   "metadata": {},
   "outputs": [
    {
     "name": "stdout",
     "output_type": "stream",
     "text": [
      "2\n",
      "3\n",
      "4\n",
      "0\n",
      "1\n",
      "2\n",
      "0\n",
      "2\n",
      "4\n",
      "2\n",
      "4\n",
      "6\n",
      "8\n",
      "10\n",
      "0\n",
      "1\n",
      "2\n",
      "3\n",
      "4\n",
      "0\n",
      "1\n",
      "2\n",
      "3\n",
      "4\n",
      "5\n",
      "4\n",
      "3\n",
      "2\n",
      "1\n"
     ]
    }
   ],
   "source": [
    "for i in range(2,5,1): # You can use different start\n",
    "    print(i)\n",
    "\n",
    "for i in range(0,3,1): # Or different stop\n",
    "    print(i)\n",
    "\n",
    "for i in range(0,5,2): # Or different step\n",
    "    print(i)\n",
    "\n",
    "for i in range(2,11,2): # Or combine\n",
    "    print(i)\n",
    "\n",
    "for i in range(0,5): # by default, skip = 1 \n",
    "    print(i)\n",
    "\n",
    "for i in range(5): # by default start is 0\n",
    "    print(i)\n",
    "\n",
    "for i in range(5,0,-1): # Guess what this displays\n",
    "    print(i)"
   ]
  },
  {
   "cell_type": "code",
   "execution_count": null,
   "metadata": {},
   "outputs": [],
   "source": []
  }
 ],
 "metadata": {
  "kernelspec": {
   "display_name": "Python 3",
   "language": "python",
   "name": "python3"
  },
  "language_info": {
   "codemirror_mode": {
    "name": "ipython",
    "version": 3
   },
   "file_extension": ".py",
   "mimetype": "text/x-python",
   "name": "python",
   "nbconvert_exporter": "python",
   "pygments_lexer": "ipython3",
   "version": "3.10.12"
  }
 },
 "nbformat": 4,
 "nbformat_minor": 2
}
